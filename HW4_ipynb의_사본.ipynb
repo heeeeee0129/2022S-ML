{
  "nbformat": 4,
  "nbformat_minor": 0,
  "metadata": {
    "colab": {
      "name": "HW4.ipynb의 사본",
      "provenance": [],
      "collapsed_sections": [],
      "include_colab_link": true
    },
    "kernelspec": {
      "name": "python3",
      "display_name": "Python 3"
    },
    "language_info": {
      "name": "python"
    }
  },
  "cells": [
    {
      "cell_type": "markdown",
      "metadata": {
        "id": "view-in-github",
        "colab_type": "text"
      },
      "source": [
        "<a href=\"https://colab.research.google.com/github/heeeeee0129/2022S-ML/blob/main/HW4_ipynb%EC%9D%98_%EC%82%AC%EB%B3%B8.ipynb\" target=\"_parent\"><img src=\"https://colab.research.google.com/assets/colab-badge.svg\" alt=\"Open In Colab\"/></a>"
      ]
    },
    {
      "cell_type": "markdown",
      "source": [
        "# **HW4 :: DNN**\n",
        "## 과제 목표\n",
        "* 간단한 Three Layer Network를 구현하기\n",
        "* Pytorch를 사용하여 DNN 구현 후 학습과 테스트하기\n",
        "  \n",
        "  \n",
        "   \n",
        "\n"
      ],
      "metadata": {
        "id": "EXvAS7OZkg_M"
      }
    },
    {
      "cell_type": "markdown",
      "source": [
        "⭐  이번 과제는 bb에 코랩 링크, ipynb 파일만 업로드합니다(HW3와 동일하게).   \n",
        "⭐  작성한 코드에 **간단한 주석을 반드시 달아주세요**!  \n",
        "⭐  코딩할 부분을 제외하고는 수정하지 마세요. 수정 시 감점입니다."
      ],
      "metadata": {
        "id": "k5IhqPYwmnUv"
      }
    },
    {
      "cell_type": "markdown",
      "source": [
        "## **문제 1 - Three Layer Network**\n",
        "```class Sigmoid```와 ```Affine```을 구현한 후 이 두 class를 사용하여 ```class ThreeLayerNet```를 완성하세요. \n",
        "* 코드 참고 : deep learning from scratch"
      ],
      "metadata": {
        "id": "OKfJ8-LiFOr8"
      }
    },
    {
      "cell_type": "markdown",
      "source": [
        "### 문제 1-1\n",
        "class sigmoid의 forward 함수를 구현하세요.  \n",
        "힌트) sigmoid 함수 식"
      ],
      "metadata": {
        "id": "FrrWMAJx6FUC"
      }
    },
    {
      "cell_type": "code",
      "execution_count": 30,
      "metadata": {
        "id": "QSI6QIBkCPWP"
      },
      "outputs": [],
      "source": [
        "import numpy as np\n",
        "\n",
        "\n",
        "class Sigmoid:\n",
        "    def __init__(self):\n",
        "        self.params = []\n",
        "\n",
        "    def forward(self, x):\n",
        "\n",
        "      #############################################\n",
        "      ################### 문제 1-1 #################\n",
        "      ############# sigmoid forward 구현 ###########\n",
        "      #############################################\n",
        "        # 한 줄로 구현\n",
        "        result = (1/(1+np.exp(-x))) ## 시그모이드 함수 식: S(x) = 1/(1+e^(-x))\n",
        "      #############################################\n",
        "      \n",
        "        return result\n"
      ]
    },
    {
      "cell_type": "markdown",
      "source": [
        "### 문제 1-2\n",
        "class Affine의 forward 함수를 구현하세요.  \n",
        "힌트) affine 함수 식"
      ],
      "metadata": {
        "id": "1YcAkmtN6UXK"
      }
    },
    {
      "cell_type": "code",
      "source": [
        "class Affine: # Affine은 Fully Connect를 의미합니다\n",
        "    def __init__(self, W, b):\n",
        "        self.params = [W, b]\n",
        "\n",
        "    def forward(self, x):\n",
        "      \n",
        "      #############################################\n",
        "      ################### 문제 1-2 #################\n",
        "      ############# affine forward 구현 ############\n",
        "      #############################################\n",
        "        # 코드 작성\n",
        "        W, b = self.params\n",
        "        out = np.matmul(x,W)+b   ## 아핀 변환: Y = WX + b\n",
        "      #############################################\n",
        "      \n",
        "        return out\n"
      ],
      "metadata": {
        "id": "Ds05drVvG5O_"
      },
      "execution_count": 31,
      "outputs": []
    },
    {
      "cell_type": "markdown",
      "source": [
        "### 문제 1-3\n",
        "\n",
        "  각 layer의 parameter를 ```np.random.randn()``` 를 사용하여 초기화하세요.  \n",
        "  * 조건) ```class ThreeLayerNet```은 총 3개의 fully connected layer로 구성됩니다.\n",
        "  * 힌트) 차원을 잘 고려하세요. \n"
      ],
      "metadata": {
        "id": "aX3vaESK6jp_"
      }
    },
    {
      "cell_type": "markdown",
      "source": [
        "### 문제 1-4\n",
        "  문제1-1, 2에서 구현한 class를 사용하여 ThreeLayerNet의 layer를 구성하세요.\n",
        "  * 조건) ```class ThreeLayerNet```은 총 3개의 fully connected layer로 구성됩니다.\n",
        "  * 힌트) 차원을 잘 고려하세요."
      ],
      "metadata": {
        "id": "qoPlnkHg_18J"
      }
    },
    {
      "cell_type": "code",
      "source": [
        "class ThreeLayerNet:\n",
        "    def __init__(self, input_size, first_hidden_size, second_hidden_size, output_size):\n",
        "        I, H_1, H_2,O = input_size, first_hidden_size, second_hidden_size, output_size\n",
        "\n",
        "      #############################################\n",
        "      ################### 문제 1-3 #################\n",
        "      ######### parameter initialization ##########\n",
        "      #############################################\n",
        "        # 코드 작성\n",
        "        ## 파라미터 초기화\n",
        "        Wh_1 = np.random.randn(I, H_1)        ## 크기가 (I, H_1) 인 랜덤 숫자로 초기화\n",
        "        bh_1 = np.random.randn(H_1)           ## 크기가 (H_1) 인 랜덤 숫자로 초기화\n",
        "        Wh_2 = np.random.randn(H_1, H_2)      ## 크기가 (H_1, H_2) 인 랜덤 숫자로 초기화\n",
        "        bh_2 = np.random.randn(H_2)           ## 크기가 (H_2) 인 랜덤 숫자로 초기화\n",
        "        Wy = np.random.randn(H_2, O)          ## 크기가 (H_2, O) 인 랜덤 숫자로 초기화\n",
        "        by = np.random.randn(O)               ## 크기가 (O) 인 랜덤 숫자로 초기화\n",
        "\n",
        "      #########################################\n",
        "        \n",
        "\n",
        "        self.layers = [\n",
        "        #############################################\n",
        "        ################### 문제 1-4 #################\n",
        "        ############### stack layers ################\n",
        "        #############################################          \n",
        "            # 코드 작성\n",
        "            Affine(Wh_1, bh_1),\n",
        "            Sigmoid(),\n",
        "            Affine(Wh_2, bh_2),\n",
        "            Sigmoid(),\n",
        "            Affine(Wy, by)           ## 레이어 쌓기-! \n",
        "\n",
        "        #############################################    \n",
        "        ]\n",
        "\n",
        "        # 모든 weight 를 담은 리스트 생성\n",
        "        self.params = []\n",
        "        for layer in self.layers:\n",
        "            self.params += layer.params\n",
        "\n",
        "    def predict(self, x):\n",
        "        for layer in self.layers:\n",
        "            x = layer.forward(x)\n",
        "        return x"
      ],
      "metadata": {
        "id": "VmHw4K5DG3uv"
      },
      "execution_count": 32,
      "outputs": []
    },
    {
      "cell_type": "code",
      "source": [
        "# dummy data로 모델 실행해보기\n",
        "x = np.random.randn(784, 100)\n",
        "model = ThreeLayerNet(100, 50, 30, 10)\n",
        "s = model.predict(x)\n",
        "print(s)"
      ],
      "metadata": {
        "id": "SNI0xGraFAAt",
        "colab": {
          "base_uri": "https://localhost:8080/"
        },
        "outputId": "8218a85d-fe61-470e-f885-b2ee9f4ec2f3"
      },
      "execution_count": 33,
      "outputs": [
        {
          "output_type": "stream",
          "name": "stdout",
          "text": [
            "[[ 5.70417067  9.26458337  0.27811591 ...  0.307068    9.01537244\n",
            "  -4.2767198 ]\n",
            " [ 2.04409276  3.77640463 -2.80158859 ...  2.29165827  6.14371699\n",
            "  -0.48198112]\n",
            " [ 2.3251568   5.72820729 -2.85673085 ...  3.4731695   6.84707018\n",
            "  -2.32705347]\n",
            " ...\n",
            " [ 2.78092886  3.63683114 -2.57442679 ...  7.70120665  7.12993321\n",
            "   1.25650076]\n",
            " [ 4.79991698  4.01636002 -0.13673985 ...  3.85023885  7.18491696\n",
            "  -0.11706385]\n",
            " [ 5.35879345  5.04285153 -1.11042905 ... -1.48551811  6.70613682\n",
            "  -4.51174366]]\n"
          ]
        }
      ]
    },
    {
      "cell_type": "markdown",
      "source": [
        "\n",
        "\n",
        "---\n",
        "\n"
      ],
      "metadata": {
        "id": "FtZZAx7vovt4"
      }
    },
    {
      "cell_type": "markdown",
      "source": [
        "## 문제 2 - Implementing DNN using Pytorch\n",
        "문제 1에서는 Pytorch를 사용하지 않고 DNN을 구현해보았습니다.  \n",
        "문제 2에서는 Pytorch를 사용하여 DNN을 구현하고 MNIST 데이터로 분류 모델 학습을 진행합니다.\n",
        "* 코드 참고: pytorch 공식 튜토리얼"
      ],
      "metadata": {
        "id": "hOzYC0u5GfkB"
      }
    },
    {
      "cell_type": "code",
      "source": [
        "# 라이브러리 importing\n",
        "import torch\n",
        "from torch.utils.data import Dataset\n",
        "from torchvision import datasets\n",
        "from torchvision.transforms import ToTensor\n",
        "import matplotlib.pyplot as plt\n",
        "from torch import nn"
      ],
      "metadata": {
        "id": "LKcI43VULpeQ"
      },
      "execution_count": 34,
      "outputs": []
    },
    {
      "cell_type": "markdown",
      "source": [
        "### **Load Data**"
      ],
      "metadata": {
        "id": "WCbWy3jAMGuQ"
      }
    },
    {
      "cell_type": "code",
      "source": [
        "# Load training data\n",
        "training_data = datasets.MNIST(\n",
        "    root=\"data\",\n",
        "    train=True, # training data\n",
        "    download=True,\n",
        "    transform=ToTensor() # 이미지를 tensor로 변형\n",
        ")\n",
        "\n",
        "# Load test data\n",
        "test_data = datasets.MNIST(\n",
        "    root=\"data\",\n",
        "    train=False, # test data\n",
        "    download=True,\n",
        "    transform=ToTensor() # 이미지를 tensor로 변형\n",
        ")\n",
        "\n",
        "# data loader\n",
        "# train, test 각각의 data loader 생성\n",
        "train_loader = torch.utils.data.DataLoader(training_data, batch_size=1, shuffle=True)\n",
        "test_loader = torch.utils.data.DataLoader(test_data, batch_size=1, shuffle=True)"
      ],
      "metadata": {
        "id": "D9DqIegtLnz9"
      },
      "execution_count": 35,
      "outputs": []
    },
    {
      "cell_type": "markdown",
      "source": [
        "### **Check loaded data**\n",
        "train_loader를 사용하여 하나의 데이터를 로드한 후 이 데이터가 어떤 숫자의 데이터인지 이미지로 확인해봅니다."
      ],
      "metadata": {
        "id": "QtJVlNT9A_KK"
      }
    },
    {
      "cell_type": "code",
      "source": [
        "# train feature와 label을 train_loader로부터 가져오기\n",
        "train_features, train_labels = next(iter(train_loader))\n",
        "print(f\"Feature batch shape: {train_features.size()}\")\n",
        "print(f\"Labels batch shape: {train_labels.size()}\")"
      ],
      "metadata": {
        "id": "IF90dcyJPhVw",
        "colab": {
          "base_uri": "https://localhost:8080/"
        },
        "outputId": "b16abae4-0483-4c01-c6ef-9d431668a53f"
      },
      "execution_count": 36,
      "outputs": [
        {
          "output_type": "stream",
          "name": "stdout",
          "text": [
            "Feature batch shape: torch.Size([1, 1, 28, 28])\n",
            "Labels batch shape: torch.Size([1])\n"
          ]
        }
      ]
    },
    {
      "cell_type": "code",
      "source": [
        "# 이미지로 확인\n",
        "img = train_features[0].squeeze()\n",
        "label = train_labels[0]\n",
        "plt.imshow(img, cmap=\"gray\")\n",
        "plt.show()\n",
        "print(f\"Label: {label}\")"
      ],
      "metadata": {
        "id": "00Wypwb2Pr-r",
        "colab": {
          "base_uri": "https://localhost:8080/",
          "height": 283
        },
        "outputId": "cf5e7f19-0d2a-4423-bce7-470e04dea94a"
      },
      "execution_count": 37,
      "outputs": [
        {
          "output_type": "display_data",
          "data": {
            "text/plain": [
              "<Figure size 432x288 with 1 Axes>"
            ],
            "image/png": "[encoded data removed]"
          },
          "metadata": {
            "needs_background": "light"
          }
        },
        {
          "output_type": "stream",
          "name": "stdout",
          "text": [
            "Label: 0\n"
          ]
        }
      ]
    },
    {
      "cell_type": "markdown",
      "source": [
        "### 문제 2-1\n",
        "4개의 linear layer와 3개의 ReLU layer를 가진 네트워크를 구성하세요.\n",
        "\n"
      ],
      "metadata": {
        "id": "BB_Qe54pB8_S"
      }
    },
    {
      "cell_type": "markdown",
      "source": [
        "### 문제 2-2\n",
        "forward 함수의 빈칸을 구현하세요."
      ],
      "metadata": {
        "id": "mK5ukeeECYJk"
      }
    },
    {
      "cell_type": "code",
      "source": [
        "class NeuralNetwork(nn.Module):\n",
        "    def __init__(self):\n",
        "        super(NeuralNetwork, self).__init__()\n",
        "        self.flatten = nn.Flatten() # 28x28 이미지를 784 픽셀 값의 배열로 변경\n",
        "        self.linear_relu_stack = nn.Sequential(\n",
        "            \n",
        "            nn.Linear(in_features=28*28, out_features=512),\n",
        "            nn.ReLU(),\n",
        "\n",
        "            #############################################\n",
        "            ################### 문제 2-1 #################\n",
        "            # 4개의 linear layer와 3개의 ReLU layer를 구성하세요\n",
        "            # (위 Linear 포함 4개, ReLU layer 포함 3개를 의미)\n",
        "            #############################################\n",
        "            \n",
        "            # 시작 차원, 끝 차원 잘 고려하여 작성하기\n",
        "            # 중간 차원은 임의로 설정 가능\n",
        "            nn.Linear(in_features = 512, out_features = 256), \n",
        "            nn.ReLU(),\n",
        "            nn.Linear(in_features = 256, out_features = 64),\n",
        "            nn.ReLU(),\n",
        "            nn.Linear(in_features = 64, out_features = 10), ## linear 레이어 : 끝차원 10 , linear layer 총 4개, relu layer 총 3개\n",
        "            ## 최종적으로 10개의 확률적 출력\n",
        "\n",
        "            #############################################\n",
        "\n",
        "        )\n",
        "\n",
        "    def forward(self, x):\n",
        "        #############################################\n",
        "        ################### 문제 2-2 #################\n",
        "        # forward 함수 구현\n",
        "        #############################################\n",
        "        # 코드 작성\n",
        "        x = self.flatten(x)\n",
        "        logits = self.linear_relu_stack(x)  ## linear_relu_stack: sequential 모듈의 컨테이너. 데이터는 모듈들을 통해 전달됨. \n",
        "        #############################################\n",
        "        return logits # forward 결과 저장"
      ],
      "metadata": {
        "id": "zme9j_4hMiA2"
      },
      "execution_count": 38,
      "outputs": []
    },
    {
      "cell_type": "code",
      "source": [
        "# cpu OR gpu 설정\n",
        "# gpu가 있을 경우, device로 cuda를 사용함\n",
        "# colab에서 '런타임 유형 변경'을 하면 gpu 사용할 수 있음\n",
        "device = \"cuda\" if torch.cuda.is_available() else \"cpu\"\n",
        "print(f\"Using {device} device\")"
      ],
      "metadata": {
        "id": "kfBLbfwUJgtP",
        "colab": {
          "base_uri": "https://localhost:8080/"
        },
        "outputId": "59cee5f5-5eb8-4189-acda-3c138ebd03e1"
      },
      "execution_count": 39,
      "outputs": [
        {
          "output_type": "stream",
          "name": "stdout",
          "text": [
            "Using cpu device\n"
          ]
        }
      ]
    },
    {
      "cell_type": "code",
      "source": [
        "model = NeuralNetwork().to(device) # device로 Network 전송\n",
        "print(model) # 모델 구조 확인"
      ],
      "metadata": {
        "id": "ifGukRqQOUyV",
        "colab": {
          "base_uri": "https://localhost:8080/"
        },
        "outputId": "bfd824eb-28fa-4534-959a-fa8f18b0227f"
      },
      "execution_count": 40,
      "outputs": [
        {
          "output_type": "stream",
          "name": "stdout",
          "text": [
            "NeuralNetwork(\n",
            "  (flatten): Flatten(start_dim=1, end_dim=-1)\n",
            "  (linear_relu_stack): Sequential(\n",
            "    (0): Linear(in_features=784, out_features=512, bias=True)\n",
            "    (1): ReLU()\n",
            "    (2): Linear(in_features=512, out_features=256, bias=True)\n",
            "    (3): ReLU()\n",
            "    (4): Linear(in_features=256, out_features=64, bias=True)\n",
            "    (5): ReLU()\n",
            "    (6): Linear(in_features=64, out_features=10, bias=True)\n",
            "  )\n",
            ")\n"
          ]
        }
      ]
    },
    {
      "cell_type": "code",
      "source": [
        "# 앞에서 출력해보았던 train_features[0](1개의 데이터)에 대해서 모델 학습 결과 확인해보기\n",
        "logits = model(train_features[0]) # 일부 백그라운드 연산들과 함께 모델의 forward 를 실행 \n",
        "pred_probab = nn.Softmax(dim=1)(logits)\n",
        "y_pred = pred_probab.argmax(1)\n",
        "print(f\"Predicted class: {y_pred}\")"
      ],
      "metadata": {
        "id": "MdOf0Rd1VEi9",
        "colab": {
          "base_uri": "https://localhost:8080/"
        },
        "outputId": "2f433dd6-1bff-49d0-d513-216e589f0615"
      },
      "execution_count": 41,
      "outputs": [
        {
          "output_type": "stream",
          "name": "stdout",
          "text": [
            "Predicted class: tensor([9])\n"
          ]
        }
      ]
    },
    {
      "cell_type": "markdown",
      "source": [
        "### **Train the Network** \n",
        "epoch과 batch를 활용하여 모델을 학습시켜 봅시다."
      ],
      "metadata": {
        "id": "J5G6rO77V7OR"
      }
    },
    {
      "cell_type": "markdown",
      "source": [
        "### 문제 2-3\n",
        "모델의 forward, backward, optimize 하는 부분을 주어진 칸에 구현하세요."
      ],
      "metadata": {
        "id": "n7RwQwKDCjOy"
      }
    },
    {
      "cell_type": "code",
      "source": [
        "model = NeuralNetwork().to(device)"
      ],
      "metadata": {
        "id": "y7jdCHQphsIO"
      },
      "execution_count": 42,
      "outputs": []
    },
    {
      "cell_type": "code",
      "source": [
        "# hyperparameter 설정\n",
        "import torch.optim as optim\n",
        "\n",
        "criterion = nn.CrossEntropyLoss() # loss function\n",
        "optimizer = optim.SGD(model.parameters(), lr=0.001, momentum=0.9) # optimizer\n",
        "\n",
        "n_epoch = 3 # the number of epochs\n",
        "n_batch = 32 # the number of batches"
      ],
      "metadata": {
        "id": "XGXKm0pHhnoO"
      },
      "execution_count": 43,
      "outputs": []
    },
    {
      "cell_type": "code",
      "source": [
        "# loader 설정하기\n",
        "train_loader = torch.utils.data.DataLoader(training_data, batch_size=n_batch, shuffle=True)\n",
        "test_loader = torch.utils.data.DataLoader(test_data, batch_size=n_batch, shuffle=True)"
      ],
      "metadata": {
        "id": "s3viP29EipLg"
      },
      "execution_count": 44,
      "outputs": []
    },
    {
      "cell_type": "code",
      "source": [
        "for epoch in range(n_epoch):  # loop over the dataset multiple times\n",
        "\n",
        "    running_loss = 0.0\n",
        "    for i, data in enumerate(train_loader, 0):\n",
        "\n",
        "        # input data 가져오기\n",
        "        # data 는 [inputs, labels]로 구성된 리스트\n",
        "        inputs, labels = data\n",
        "\n",
        "        # optimizer의 파라미터 gradient를 0으로 설정\n",
        "        optimizer.zero_grad()\n",
        "\n",
        "        #############################################\n",
        "        ################### 문제 2-3 #################\n",
        "        # forward, backward, optimize \n",
        "        #############################################\n",
        "          # 코드 작성\n",
        "        outputs = model(inputs)\n",
        "        loss = criterion(outputs, labels)\n",
        "        loss.backward()   ## loss의 Gradient 계산\n",
        "        optimizer.step() ## 최적화\n",
        "\n",
        "        #############################################\n",
        "\n",
        "        # loss 출력\n",
        "        running_loss += loss.item()\n",
        "        if i % n_batch == 0:    # print every n_batch mini-batches\n",
        "            print(f'[{epoch + 1}, {i + 1:5d}] loss: {running_loss / n_batch:.3f}')\n",
        "            running_loss = 0.0\n",
        "\n",
        "print('Finished Training')"
      ],
      "metadata": {
        "id": "m6ByMb4whKFt",
        "colab": {
          "base_uri": "https://localhost:8080/"
        },
        "outputId": "9dbc348e-fd74-4a51-834f-103299efaa2c"
      },
      "execution_count": 45,
      "outputs": [
        {
          "output_type": "stream",
          "name": "stdout",
          "text": [
            "[1,     1] loss: 0.072\n",
            "[1,    33] loss: 2.309\n",
            "[1,    65] loss: 2.302\n",
            "[1,    97] loss: 2.299\n",
            "[1,   129] loss: 2.294\n",
            "[1,   161] loss: 2.291\n",
            "[1,   193] loss: 2.291\n",
            "[1,   225] loss: 2.285\n",
            "[1,   257] loss: 2.283\n",
            "[1,   289] loss: 2.277\n",
            "[1,   321] loss: 2.270\n",
            "[1,   353] loss: 2.266\n",
            "[1,   385] loss: 2.259\n",
            "[1,   417] loss: 2.251\n",
            "[1,   449] loss: 2.242\n",
            "[1,   481] loss: 2.233\n",
            "[1,   513] loss: 2.221\n",
            "[1,   545] loss: 2.213\n",
            "[1,   577] loss: 2.192\n",
            "[1,   609] loss: 2.173\n",
            "[1,   641] loss: 2.144\n",
            "[1,   673] loss: 2.132\n",
            "[1,   705] loss: 2.090\n",
            "[1,   737] loss: 2.060\n",
            "[1,   769] loss: 2.021\n",
            "[1,   801] loss: 1.958\n",
            "[1,   833] loss: 1.904\n",
            "[1,   865] loss: 1.819\n",
            "[1,   897] loss: 1.736\n",
            "[1,   929] loss: 1.649\n",
            "[1,   961] loss: 1.557\n",
            "[1,   993] loss: 1.437\n",
            "[1,  1025] loss: 1.358\n",
            "[1,  1057] loss: 1.263\n",
            "[1,  1089] loss: 1.178\n",
            "[1,  1121] loss: 1.095\n",
            "[1,  1153] loss: 1.073\n",
            "[1,  1185] loss: 0.992\n",
            "[1,  1217] loss: 0.964\n",
            "[1,  1249] loss: 0.938\n",
            "[1,  1281] loss: 0.901\n",
            "[1,  1313] loss: 0.815\n",
            "[1,  1345] loss: 0.812\n",
            "[1,  1377] loss: 0.797\n",
            "[1,  1409] loss: 0.748\n",
            "[1,  1441] loss: 0.703\n",
            "[1,  1473] loss: 0.742\n",
            "[1,  1505] loss: 0.711\n",
            "[1,  1537] loss: 0.722\n",
            "[1,  1569] loss: 0.628\n",
            "[1,  1601] loss: 0.652\n",
            "[1,  1633] loss: 0.637\n",
            "[1,  1665] loss: 0.587\n",
            "[1,  1697] loss: 0.622\n",
            "[1,  1729] loss: 0.599\n",
            "[1,  1761] loss: 0.617\n",
            "[1,  1793] loss: 0.584\n",
            "[1,  1825] loss: 0.535\n",
            "[1,  1857] loss: 0.540\n",
            "[2,     1] loss: 0.024\n",
            "[2,    33] loss: 0.563\n",
            "[2,    65] loss: 0.529\n",
            "[2,    97] loss: 0.576\n",
            "[2,   129] loss: 0.516\n",
            "[2,   161] loss: 0.545\n",
            "[2,   193] loss: 0.525\n",
            "[2,   225] loss: 0.543\n",
            "[2,   257] loss: 0.533\n",
            "[2,   289] loss: 0.474\n",
            "[2,   321] loss: 0.495\n",
            "[2,   353] loss: 0.564\n",
            "[2,   385] loss: 0.530\n",
            "[2,   417] loss: 0.458\n",
            "[2,   449] loss: 0.479\n",
            "[2,   481] loss: 0.454\n",
            "[2,   513] loss: 0.491\n",
            "[2,   545] loss: 0.502\n",
            "[2,   577] loss: 0.514\n",
            "[2,   609] loss: 0.427\n",
            "[2,   641] loss: 0.415\n",
            "[2,   673] loss: 0.477\n",
            "[2,   705] loss: 0.454\n",
            "[2,   737] loss: 0.403\n",
            "[2,   769] loss: 0.436\n",
            "[2,   801] loss: 0.401\n",
            "[2,   833] loss: 0.432\n",
            "[2,   865] loss: 0.435\n",
            "[2,   897] loss: 0.398\n",
            "[2,   929] loss: 0.446\n",
            "[2,   961] loss: 0.445\n",
            "[2,   993] loss: 0.429\n",
            "[2,  1025] loss: 0.404\n",
            "[2,  1057] loss: 0.387\n",
            "[2,  1089] loss: 0.478\n",
            "[2,  1121] loss: 0.401\n",
            "[2,  1153] loss: 0.422\n",
            "[2,  1185] loss: 0.392\n",
            "[2,  1217] loss: 0.410\n",
            "[2,  1249] loss: 0.401\n",
            "[2,  1281] loss: 0.395\n",
            "[2,  1313] loss: 0.372\n",
            "[2,  1345] loss: 0.379\n",
            "[2,  1377] loss: 0.404\n",
            "[2,  1409] loss: 0.393\n",
            "[2,  1441] loss: 0.433\n",
            "[2,  1473] loss: 0.361\n",
            "[2,  1505] loss: 0.366\n",
            "[2,  1537] loss: 0.333\n",
            "[2,  1569] loss: 0.339\n",
            "[2,  1601] loss: 0.364\n",
            "[2,  1633] loss: 0.393\n",
            "[2,  1665] loss: 0.396\n",
            "[2,  1697] loss: 0.414\n",
            "[2,  1729] loss: 0.376\n",
            "[2,  1761] loss: 0.356\n",
            "[2,  1793] loss: 0.337\n",
            "[2,  1825] loss: 0.365\n",
            "[2,  1857] loss: 0.355\n",
            "[3,     1] loss: 0.005\n",
            "[3,    33] loss: 0.337\n",
            "[3,    65] loss: 0.335\n",
            "[3,    97] loss: 0.340\n",
            "[3,   129] loss: 0.347\n",
            "[3,   161] loss: 0.331\n",
            "[3,   193] loss: 0.370\n",
            "[3,   225] loss: 0.351\n",
            "[3,   257] loss: 0.374\n",
            "[3,   289] loss: 0.340\n",
            "[3,   321] loss: 0.327\n",
            "[3,   353] loss: 0.336\n",
            "[3,   385] loss: 0.344\n",
            "[3,   417] loss: 0.359\n",
            "[3,   449] loss: 0.328\n",
            "[3,   481] loss: 0.341\n",
            "[3,   513] loss: 0.287\n",
            "[3,   545] loss: 0.314\n",
            "[3,   577] loss: 0.348\n",
            "[3,   609] loss: 0.350\n",
            "[3,   641] loss: 0.329\n",
            "[3,   673] loss: 0.375\n",
            "[3,   705] loss: 0.387\n",
            "[3,   737] loss: 0.354\n",
            "[3,   769] loss: 0.351\n",
            "[3,   801] loss: 0.344\n",
            "[3,   833] loss: 0.344\n",
            "[3,   865] loss: 0.353\n",
            "[3,   897] loss: 0.304\n",
            "[3,   929] loss: 0.322\n",
            "[3,   961] loss: 0.287\n",
            "[3,   993] loss: 0.302\n",
            "[3,  1025] loss: 0.368\n",
            "[3,  1057] loss: 0.266\n",
            "[3,  1089] loss: 0.363\n",
            "[3,  1121] loss: 0.276\n",
            "[3,  1153] loss: 0.296\n",
            "[3,  1185] loss: 0.316\n",
            "[3,  1217] loss: 0.296\n",
            "[3,  1249] loss: 0.317\n",
            "[3,  1281] loss: 0.289\n",
            "[3,  1313] loss: 0.318\n",
            "[3,  1345] loss: 0.267\n",
            "[3,  1377] loss: 0.293\n",
            "[3,  1409] loss: 0.359\n",
            "[3,  1441] loss: 0.309\n",
            "[3,  1473] loss: 0.266\n",
            "[3,  1505] loss: 0.313\n",
            "[3,  1537] loss: 0.361\n",
            "[3,  1569] loss: 0.292\n",
            "[3,  1601] loss: 0.296\n",
            "[3,  1633] loss: 0.348\n",
            "[3,  1665] loss: 0.266\n",
            "[3,  1697] loss: 0.287\n",
            "[3,  1729] loss: 0.308\n",
            "[3,  1761] loss: 0.260\n",
            "[3,  1793] loss: 0.311\n",
            "[3,  1825] loss: 0.280\n",
            "[3,  1857] loss: 0.272\n",
            "Finished Training\n"
          ]
        }
      ]
    },
    {
      "cell_type": "markdown",
      "source": [
        "### **Test the Network**"
      ],
      "metadata": {
        "id": "XnqNJjGki4JZ"
      }
    },
    {
      "cell_type": "code",
      "source": [
        "# test feature와 label을 test_loader로부터 가져오기\n",
        "test_features, test_labels = next(iter(test_loader))\n",
        "print(f\"Feature batch shape: {test_features.size()}\")\n",
        "print(f\"Labels batch shape: {test_labels.size()}\")"
      ],
      "metadata": {
        "id": "CO1AMDEAjGrK",
        "colab": {
          "base_uri": "https://localhost:8080/"
        },
        "outputId": "9438df57-3be8-4b6e-dcf6-840d3cfbb830"
      },
      "execution_count": 46,
      "outputs": [
        {
          "output_type": "stream",
          "name": "stdout",
          "text": [
            "Feature batch shape: torch.Size([32, 1, 28, 28])\n",
            "Labels batch shape: torch.Size([32])\n"
          ]
        }
      ]
    },
    {
      "cell_type": "code",
      "source": [
        "# 1개 이미지 확인해보기\n",
        "\n",
        "logits = model(test_features[0]) # 일부 백그라운드 연산들과 함께 모델의 forward 를 실행 \n",
        "pred_probab = nn.Softmax(dim=1)(logits)\n",
        "y_pred = pred_probab.argmax(1)\n",
        "\n",
        "\n",
        "img = test_features[0].squeeze()\n",
        "label = test_labels[0]\n",
        "\n",
        "plt.imshow(img, cmap=\"gray\")\n",
        "plt.show()\n",
        "print(f\"Predicted class: {y_pred}\")\n",
        "print(f\"Label: {label}\")"
      ],
      "metadata": {
        "id": "bgC3vITkjWdU",
        "colab": {
          "base_uri": "https://localhost:8080/",
          "height": 302
        },
        "outputId": "52edf496-d591-4ffd-e7c5-e7b73db42e77"
      },
      "execution_count": 47,
      "outputs": [
        {
          "output_type": "display_data",
          "data": {
            "text/plain": [
              "<Figure size 432x288 with 1 Axes>"
            ],
            "image/png": "[encoded data removed]"
          },
          "metadata": {
            "needs_background": "light"
          }
        },
        {
          "output_type": "stream",
          "name": "stdout",
          "text": [
            "Predicted class: tensor([8])\n",
            "Label: 8\n"
          ]
        }
      ]
    },
    {
      "cell_type": "code",
      "source": [
        "# 전체 test data에 대한 결과 확인\n",
        "correct = 0\n",
        "total = 0\n",
        "\n",
        "with torch.no_grad(): # 모델을 학습하는 것이 아니므로 gradient 계산을 할 필요가 없음\n",
        "    for data in test_loader:\n",
        "        images, labels = data\n",
        "        outputs = model(images)\n",
        "        _, predicted = torch.max(outputs.data, 1)\n",
        "        total += labels.size(0)\n",
        "        correct += (predicted == labels).sum().item()\n",
        "\n",
        "print(f'Accuracy of the network on the test images: {100 * correct // total} %')"
      ],
      "metadata": {
        "id": "RE_tglcsmmRD",
        "colab": {
          "base_uri": "https://localhost:8080/"
        },
        "outputId": "20f0e9fd-2509-4e8c-fabf-bcd7ac8734bd"
      },
      "execution_count": 48,
      "outputs": [
        {
          "output_type": "stream",
          "name": "stdout",
          "text": [
            "Accuracy of the network on the test images: 92 %\n"
          ]
        }
      ]
    }
  ]
}